{
  "nbformat": 4,
  "nbformat_minor": 0,
  "metadata": {
    "colab": {
      "provenance": [],
      "gpuType": "T4",
      "authorship_tag": "ABX9TyOfDxHRwEuZ2kKKCA0yVRuR",
      "include_colab_link": true
    },
    "kernelspec": {
      "name": "python3",
      "display_name": "Python 3"
    },
    "language_info": {
      "name": "python"
    },
    "accelerator": "GPU"
  },
  "cells": [
    {
      "cell_type": "markdown",
      "metadata": {
        "id": "view-in-github",
        "colab_type": "text"
      },
      "source": [
        "<a href=\"https://colab.research.google.com/github/ris0801/Generalization-DeepLearning/blob/main/AdvancedProject_Figure1_CIFAR10.ipynb\" target=\"_parent\"><img src=\"https://colab.research.google.com/assets/colab-badge.svg\" alt=\"Open In Colab\"/></a>"
      ]
    },
    {
      "cell_type": "code",
      "source": [
        "import torch\n",
        "import torch.nn as nn\n",
        "import torch.optim as optim\n",
        "from torchvision import datasets, transforms\n",
        "import numpy as np\n",
        "import matplotlib.pyplot as plt\n",
        "import random\n",
        "import torch.nn.functional as F\n",
        "# Check for CUDA availability and set device accordingly\n",
        "device = torch.device(\"cuda\" if torch.cuda.is_available() else \"cpu\")"
      ],
      "metadata": {
        "id": "9UYLw5ABjFst"
      },
      "execution_count": null,
      "outputs": []
    },
    {
      "cell_type": "code",
      "source": [
        "import torch.nn as nn\n",
        "import torch.nn.functional as F\n",
        "\n",
        "class SimpleCNN(nn.Module):\n",
        "    def __init__(self):\n",
        "        super(SimpleCNN, self).__init__()\n",
        "        # Input size: [3, 32, 32]\n",
        "        self.conv1 = nn.Conv2d(in_channels=3, out_channels=16, kernel_size=3, stride=1, padding=1) # Output size: [16, 32, 32]\n",
        "        self.pool = nn.MaxPool2d(kernel_size=2, stride=2, padding=0) # Output size: [16, 16, 16]\n",
        "        self.conv2 = nn.Conv2d(in_channels=16, out_channels=32, kernel_size=3, stride=1, padding=1) # Output size: [32, 16, 16]\n",
        "        # Another max pooling will reduce size to [32, 8, 8]\n",
        "        self.fc1 = nn.Linear(32 * 8 * 8, 120)\n",
        "        self.fc2 = nn.Linear(120, 84)\n",
        "        self.fc3 = nn.Linear(84, 10)\n",
        "\n",
        "    def forward(self, x):\n",
        "        x = self.pool(F.relu(self.conv1(x)))\n",
        "        x = self.pool(F.relu(self.conv2(x)))\n",
        "        x = x.view(-1, 32 * 8 * 8)\n",
        "        x = F.relu(self.fc1(x))\n",
        "        x = F.relu(self.fc2(x))\n",
        "        x = self.fc3(x)\n",
        "        return x\n",
        "\n",
        "model = SimpleCNN()\n",
        "print(model)"
      ],
      "metadata": {
        "id": "PxOlrZ22jQ2Z",
        "colab": {
          "base_uri": "https://localhost:8080/"
        },
        "outputId": "5196ad29-34e5-4f3e-d1fd-9afd1eec2ff1"
      },
      "execution_count": null,
      "outputs": [
        {
          "output_type": "stream",
          "name": "stdout",
          "text": [
            "SimpleCNN(\n",
            "  (conv1): Conv2d(3, 16, kernel_size=(3, 3), stride=(1, 1), padding=(1, 1))\n",
            "  (pool): MaxPool2d(kernel_size=2, stride=2, padding=0, dilation=1, ceil_mode=False)\n",
            "  (conv2): Conv2d(16, 32, kernel_size=(3, 3), stride=(1, 1), padding=(1, 1))\n",
            "  (fc1): Linear(in_features=2048, out_features=120, bias=True)\n",
            "  (fc2): Linear(in_features=120, out_features=84, bias=True)\n",
            "  (fc3): Linear(in_features=84, out_features=10, bias=True)\n",
            ")\n"
          ]
        }
      ]
    },
    {
      "cell_type": "code",
      "source": [
        "transform = transforms.Compose([\n",
        "    transforms.ToTensor(),\n",
        "    transforms.Normalize((0.5, 0.5, 0.5), (0.5, 0.5, 0.5))\n",
        "])\n",
        "train_dataset = datasets.CIFAR10(root='./data', train=True, transform=transform, download=True)\n",
        "train_loader = torch.utils.data.DataLoader(train_dataset, batch_size=64, shuffle=True)"
      ],
      "metadata": {
        "id": "HW_mChc1jSsV",
        "colab": {
          "base_uri": "https://localhost:8080/"
        },
        "outputId": "08f2f0c0-df0f-419b-a32f-9bbd6ae833e1"
      },
      "execution_count": null,
      "outputs": [
        {
          "output_type": "stream",
          "name": "stdout",
          "text": [
            "Files already downloaded and verified\n"
          ]
        }
      ]
    },
    {
      "cell_type": "code",
      "source": [
        "def misclassification_rate(model, loader):\n",
        "    correct = np.zeros(len(loader.dataset))\n",
        "    with torch.no_grad():\n",
        "        for data, target in loader:\n",
        "            data, target = data.to(device), target.to(device)\n",
        "            output = model(data)\n",
        "            pred = output.argmax(dim=1, keepdim=True)\n",
        "            correct_batch = pred.eq(target.view_as(pred)).squeeze().cpu().numpy()\n",
        "            # Update the correct array\n",
        "            for i in range(len(correct_batch)):\n",
        "                correct[i] += correct_batch[i]\n",
        "    return correct\n"
      ],
      "metadata": {
        "id": "JNxKryBRjVNM"
      },
      "execution_count": null,
      "outputs": []
    },
    {
      "cell_type": "code",
      "source": [
        "def estimated_p_correct(model, loader):\n",
        "    correct = np.zeros(len(loader.dataset))\n",
        "    with torch.no_grad():\n",
        "        for batch_idx, (data, target) in enumerate(loader):\n",
        "            data, target = data.to(device), target.to(device)\n",
        "            output = model(data)\n",
        "            pred = output.argmax(dim=1)\n",
        "            correct[batch_idx * loader.batch_size:batch_idx * loader.batch_size + len(data)] = pred.eq(target).cpu().numpy().astype(int)\n",
        "    return correct\n"
      ],
      "metadata": {
        "id": "H5i6ZqVBp_Ai"
      },
      "execution_count": null,
      "outputs": []
    },
    {
      "cell_type": "code",
      "source": [
        "num_sample_points = 1000"
      ],
      "metadata": {
        "id": "DqeyL4e0do98"
      },
      "execution_count": null,
      "outputs": []
    },
    {
      "cell_type": "code",
      "source": [
        "num_initializations = 50\n",
        "all_p_corrects = np.zeros(1000)\n",
        "\n",
        "for _ in range(num_initializations):\n",
        "    model = SimpleCNN().to(device)\n",
        "    optimizer = optim.SGD(model.parameters(), lr=0.01)\n",
        "\n",
        "    # random_indices = random.sample(range(len(train_dataset)), 1000)\n",
        "    # subset_dataset = torch.utils.data.Subset(train_dataset, random_indices)\n",
        "    # train_loader_subset = torch.utils.data.DataLoader(subset_dataset, batch_size=64, shuffle=True)\n",
        "\n",
        "    for data, target in train_loader:\n",
        "        data, target = data.to(device), target.to(device)\n",
        "        optimizer.zero_grad()\n",
        "        output = model(data)\n",
        "        loss = nn.CrossEntropyLoss()(output, target)\n",
        "        loss.backward()\n",
        "        optimizer.step()\n",
        "\n",
        "    random_indices = random.sample(range(len(train_dataset)), num_sample_points)\n",
        "    subset_dataset = torch.utils.data.Subset(train_dataset, random_indices)\n",
        "    subset_loader = torch.utils.data.DataLoader(subset_dataset, batch_size=64, shuffle=False)\n",
        "\n",
        "    all_p_corrects += estimated_p_correct(model, subset_loader)\n",
        "\n",
        "\n",
        "all_p_corrects /= num_initializations\n"
      ],
      "metadata": {
        "id": "IDLKjYA4jZMZ"
      },
      "execution_count": null,
      "outputs": []
    },
    {
      "cell_type": "code",
      "source": [
        "sorted_p_correct = np.sort(all_p_corrects)"
      ],
      "metadata": {
        "id": "IXwbzeMJou18"
      },
      "execution_count": null,
      "outputs": []
    },
    {
      "cell_type": "code",
      "source": [
        "# randX: Replace the input with Gaussian noise\n",
        "# Convert the dataset to the expected format and then create randX_data\n",
        "formatted_data = np.transpose(train_dataset.data, (0, 3, 1, 2))  # [N, 3, 32, 32]\n",
        "randX_data = torch.randn_like(torch.tensor(formatted_data, dtype=torch.float)) / 255.\n",
        "randX_dataset = torch.utils.data.TensorDataset(randX_data, torch.tensor(train_dataset.targets))\n",
        "randX_loader = torch.utils.data.DataLoader(randX_dataset, batch_size=64, shuffle=True)"
      ],
      "metadata": {
        "id": "olmzVKKHowIN"
      },
      "execution_count": null,
      "outputs": []
    },
    {
      "cell_type": "code",
      "source": [
        "num_initializations = 50\n",
        "all_p_corrects_randx = np.zeros(1000)\n",
        "\n",
        "for _ in range(num_initializations):\n",
        "    model = SimpleCNN().to(device)\n",
        "    optimizer = optim.SGD(model.parameters(), lr=0.01)\n",
        "\n",
        "    # random_indices = random.sample(range(len(train_dataset)), 1000)\n",
        "    # subset_dataset = torch.utils.data.Subset(randX_dataset, random_indices)\n",
        "    # train_loader_subset = torch.utils.data.DataLoader(subset_dataset, batch_size=64, shuffle=True)\n",
        "\n",
        "    for data, target in randX_loader:\n",
        "        data, target = data.to(device), target.to(device)\n",
        "        optimizer.zero_grad()\n",
        "        output = model(data)\n",
        "        loss = nn.CrossEntropyLoss()(output, target)\n",
        "        loss.backward()\n",
        "        optimizer.step()\n",
        "\n",
        "    random_indices = random.sample(range(len(randX_data)), num_sample_points)\n",
        "    subset_dataset = torch.utils.data.Subset(randX_dataset, random_indices)\n",
        "    subset_loader = torch.utils.data.DataLoader(subset_dataset, batch_size=64, shuffle=False)\n",
        "\n",
        "    all_p_corrects_randx += estimated_p_correct(model, subset_loader)\n",
        "\n",
        "all_p_corrects_randx /= num_initializations"
      ],
      "metadata": {
        "id": "COTyWxMnviFR"
      },
      "execution_count": null,
      "outputs": []
    },
    {
      "cell_type": "code",
      "source": [
        "sorted_p_correct_randx = np.sort(all_p_corrects_randx)"
      ],
      "metadata": {
        "id": "gmYKjpLBv6WY"
      },
      "execution_count": null,
      "outputs": []
    },
    {
      "cell_type": "code",
      "source": [
        "# Convert the numpy data to a tensor and transpose to the correct shape\n",
        "formatted_data_tensor = torch.tensor(np.transpose(train_dataset.data, (0, 3, 1, 2)), dtype=torch.float) / 255.\n",
        "\n",
        "# Generate random labels for the data\n",
        "randY_labels = torch.tensor(np.random.randint(0, 10, len(train_dataset)), dtype=torch.long)\n",
        "\n",
        "# Create a TensorDataset using original data and random labels\n",
        "randY_dataset = torch.utils.data.TensorDataset(formatted_data_tensor, randY_labels)\n",
        "randY_loader = torch.utils.data.DataLoader(randY_dataset, batch_size=64, shuffle=True)"
      ],
      "metadata": {
        "id": "2hkLq75RvlEB"
      },
      "execution_count": null,
      "outputs": []
    },
    {
      "cell_type": "code",
      "source": [
        "num_initializations = 50\n",
        "all_p_corrects_randy = np.zeros(1000)\n",
        "\n",
        "for _ in range(num_initializations):\n",
        "    model = SimpleCNN().to(device)\n",
        "    optimizer = optim.SGD(model.parameters(), lr=0.01)\n",
        "\n",
        "    # Choose a random subset of 1000 samples\n",
        "    # random_indices = random.sample(range(len(randY_dataset)), 1000)\n",
        "    # subset_dataset = torch.utils.data.Subset(randY_dataset, random_indices)\n",
        "    # train_loader_subset = torch.utils.data.DataLoader(subset_dataset, batch_size=64, shuffle=True)\n",
        "\n",
        "    for data, target in randY_loader:\n",
        "        data, target = data.to(device), target.to(device)\n",
        "        optimizer.zero_grad()\n",
        "        output = model(data)\n",
        "        loss = nn.CrossEntropyLoss()(output, target)\n",
        "        loss.backward()\n",
        "        optimizer.step()\n",
        "\n",
        "    random_indices = random.sample(range(len(randY_dataset)), num_sample_points)\n",
        "    subset_dataset = torch.utils.data.Subset(randY_dataset, random_indices)\n",
        "    subset_loader = torch.utils.data.DataLoader(subset_dataset, batch_size=64, shuffle=False)\n",
        "\n",
        "    all_p_corrects_randy += estimated_p_correct(model, subset_loader)\n",
        "\n",
        "all_p_corrects_randy /= num_initializations"
      ],
      "metadata": {
        "id": "OE8Q2nmIwPjn"
      },
      "execution_count": null,
      "outputs": []
    },
    {
      "cell_type": "code",
      "source": [
        "sorted_p_correct_randy = np.sort(all_p_corrects_randy)"
      ],
      "metadata": {
        "id": "DN_phztpo2UR"
      },
      "execution_count": null,
      "outputs": []
    },
    {
      "cell_type": "code",
      "source": [
        "plt.figure(figsize=(10,6))\n",
        "\n",
        "# Plotting each dataset\n",
        "plt.plot(sorted_p_correct, label=\"Real Data\")\n",
        "plt.plot(sorted_p_correct_randx, label=\"randX\")\n",
        "plt.plot(sorted_p_correct_randy, label=\"randY\")\n",
        "\n",
        "# Setting labels, title, and legend\n",
        "plt.xlabel('Examples (sorted by estimated P(correct))')\n",
        "plt.ylabel('Estimated P(correct)')\n",
        "plt.legend()\n",
        "plt.title(\"Estimated P(correct) vs Examples sorted by Estimated P(correct)\")\n",
        "\n",
        "# Display the plot\n",
        "plt.show()\n"
      ],
      "metadata": {
        "colab": {
          "base_uri": "https://localhost:8080/",
          "height": 564
        },
        "id": "4VBiiM_0yqt_",
        "outputId": "d2cc0c5c-6c0c-41ac-b34c-af9f4c8f25b9"
      },
      "execution_count": null,
      "outputs": [
        {
          "output_type": "display_data",
          "data": {
            "text/plain": [
              "<Figure size 1000x600 with 1 Axes>"
            ],
            "image/png": "[encoded data removed]"
          },
          "metadata": {}
        }
      ]
    }
  ]
}